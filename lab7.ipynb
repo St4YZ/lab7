{
  "nbformat": 4,
  "nbformat_minor": 0,
  "metadata": {
    "colab": {
      "name": "lab7.ipynb",
      "provenance": [],
      "include_colab_link": true
    },
    "kernelspec": {
      "name": "python3",
      "display_name": "Python 3"
    },
    "language_info": {
      "name": "python"
    }
  },
  "cells": [
    {
      "cell_type": "markdown",
      "metadata": {
        "id": "view-in-github",
        "colab_type": "text"
      },
      "source": [
        "<a href=\"https://colab.research.google.com/github/St4YZ/lab7/blob/main/lab7.ipynb\" target=\"_parent\"><img src=\"https://colab.research.google.com/assets/colab-badge.svg\" alt=\"Open In Colab\"/></a>"
      ]
    },
    {
      "cell_type": "code",
      "metadata": {
        "colab": {
          "base_uri": "https://localhost:8080/",
          "height": 642
        },
        "id": "ajc_a2NzV5gi",
        "outputId": "92544047-4026-4665-d2c7-f2ccb96a5861"
      },
      "source": [
        "from sklearn import linear_model\n",
        "from sklearn.datasets import fetch_california_housing\n",
        "from sklearn.model_selection import train_test_split\n",
        "import matplotlib.pyplot as plt\n",
        "from sklearn.metrics import mean_squared_error\n",
        "from sklearn import preprocessing\n",
        "from sklearn.preprocessing import PolynomialFeatures\n",
        "import pdb\n",
        "\n",
        "# =============== dataset for the project =====================================\n",
        "\n",
        "dataset = fetch_california_housing()\n",
        "\n",
        "\n",
        "# ============== Polynomial Features for the dataset ==========================\n",
        "\n",
        "pft = PolynomialFeatures(degree = 3)\n",
        "\n",
        "# ============== Label names ==================================================\n",
        "\n",
        "label_prices = dataset['target']\n",
        "feature_names = dataset['feature_names']\n",
        "\n",
        "# ============== Feature Normalization of the dataset =========================\n",
        "data_original = (dataset.data)\n",
        "X_scaled = preprocessing.scale(dataset.data)\n",
        "\n",
        "# ================= Generating poly features ==================================\n",
        "\n",
        "X_poly = pft.fit_transform(X_scaled)\n",
        "\n",
        "# ================= Splitting the dataset(train, validation and test ==========\n",
        "X_train, X_dummy, y_train, y_dummy = train_test_split(X_poly, dataset.target, test_size = 0.40, random_state = 42)\n",
        "X_CV,X_test,y_CV,y_test = train_test_split(X_dummy, y_dummy, test_size = 0.2, random_state = 42)\n",
        "\n",
        "# ================= Fit a linear regression model =============================\n",
        "model = linear_model.Ridge(alpha = 9000)\n",
        "model.fit(X_train, y_train)\n",
        "\n",
        "predictionCV = model.predict(X_CV)\n",
        "predictionTestSet = model.predict(X_test)\n",
        "\n",
        "errorCV = mean_squared_error(y_CV, predictionCV)\n",
        "errorTestSet = mean_squared_error(y_test, predictionTestSet)\n",
        "\n",
        "\n",
        "# ================= Plotting graph ============================================\n",
        "\n",
        "plt.scatter(y_CV, predictionCV, c = 'green')\n",
        "plt.xlabel(\"Price in 1000$\")\n",
        "plt.ylabel(\"Predicted CV value\")\n",
        "plt.title(\"Predicted CV value vs True CV value: Linear Regression\")\n",
        "plt.show()\n",
        "\n",
        "\n",
        "print(\"Predicted Value[60] from test set: {}\\n\".format(predictionTestSet[60]))\n",
        "print(\"Original Value[60] form test set: {}\\n\".format(y_test[60]))\n",
        "print(\"Prices for the houses: {}\\n\".format(label_prices))\n",
        "print(\"Feature names: {}\\n\".format(feature_names))\n",
        "print(\"Prediction in CV: {}\\n\".format(predictionCV))\n",
        "print(\"Original Values of CV: {}\\n\".format(y_CV))\n",
        "\n",
        "print(\"Error in cross-validation set: {:.2f}\\n\".format(errorCV))\n",
        "\n",
        "print(\"Predicted value for test set: {}\\n\".format(predictionTestSet))\n",
        "print(\"Original value for test set: {}\\n\".format(y_test))\n",
        "\n",
        "print(\"Error in test set: {:.2f}\\n\".format(errorTestSet))"
      ],
      "execution_count": 1,
      "outputs": [
        {
          "output_type": "display_data",
          "data": {
            "image/png": "[encoded data removed]",
            "text/plain": [
              "<Figure size 432x288 with 1 Axes>"
            ]
          },
          "metadata": {
            "needs_background": "light"
          }
        },
        {
          "output_type": "stream",
          "name": "stdout",
          "text": [
            "Predicted Value[60] from test set: 2.755454545084311\n",
            "\n",
            "Original Value[60] form test set: 3.044\n",
            "\n",
            "Prices for the houses: [4.526 3.585 3.521 ... 0.923 0.847 0.894]\n",
            "\n",
            "Feature names: ['MedInc', 'HouseAge', 'AveRooms', 'AveBedrms', 'Population', 'AveOccup', 'Latitude', 'Longitude']\n",
            "\n",
            "Prediction in CV: [1.92976486 1.81447965 1.7472605  ... 1.52765829 2.01224724 1.13936489]\n",
            "\n",
            "Original Values of CV: [2.459 3.5   0.723 ... 1.157 3.746 0.762]\n",
            "\n",
            "Error in cross-validation set: 0.73\n",
            "\n",
            "Predicted value for test set: [1.52839572 1.35412555 2.46424637 ... 2.31755069 2.02579849 2.5529001 ]\n",
            "\n",
            "Original value for test set: [0.413 0.69  1.675 ... 1.688 1.493 4.612]\n",
            "\n",
            "Error in test set: 0.67\n",
            "\n"
          ]
        }
      ]
    }
  ]
}